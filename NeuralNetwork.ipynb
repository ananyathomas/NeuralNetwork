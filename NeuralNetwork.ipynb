{
  "nbformat": 4,
  "nbformat_minor": 0,
  "metadata": {
    "colab": {
      "name": "NeuralNetwork.ipynb",
      "provenance": []
    },
    "kernelspec": {
      "name": "python3",
      "display_name": "Python 3"
    },
    "language_info": {
      "name": "python"
    }
  },
  "cells": [
    {
      "cell_type": "markdown",
      "source": [
        "# **Creating a neural network from scratch**"
      ],
      "metadata": {
        "id": "UweaY58vYYSz"
      }
    },
    {
      "cell_type": "code",
      "execution_count": 1,
      "metadata": {
        "id": "B6ySO87cVO0C"
      },
      "outputs": [],
      "source": [
        "import numpy as np"
      ]
    },
    {
      "cell_type": "code",
      "source": [
        "weights = np.around(np.random.uniform(size=6), decimals=2) \n",
        "biases = np.around(np.random.uniform(size=3), decimals=2)"
      ],
      "metadata": {
        "id": "b_TJOja7VUtK"
      },
      "execution_count": 2,
      "outputs": []
    },
    {
      "cell_type": "code",
      "source": [
        "print(weights)\n",
        "print(biases)"
      ],
      "metadata": {
        "colab": {
          "base_uri": "https://localhost:8080/"
        },
        "id": "dVbu-o9eVetK",
        "outputId": "c6b07b2c-e12b-4c80-cf57-3f42577bc394"
      },
      "execution_count": 3,
      "outputs": [
        {
          "output_type": "stream",
          "name": "stdout",
          "text": [
            "[0.2  0.49 0.01 0.69 0.82 0.48]\n",
            "[0.95 0.35 0.23]\n"
          ]
        }
      ]
    },
    {
      "cell_type": "code",
      "source": [
        "x1 = 0.5\n",
        "x2 = 0.85\n",
        "print('x1 is {} and x2 is {}'.format(x1, x2))"
      ],
      "metadata": {
        "colab": {
          "base_uri": "https://localhost:8080/"
        },
        "id": "A7gzvT4GVugr",
        "outputId": "a29d937b-5ace-4762-901f-5ed72544686b"
      },
      "execution_count": 4,
      "outputs": [
        {
          "output_type": "stream",
          "name": "stdout",
          "text": [
            "x1 is 0.5 and x2 is 0.85\n"
          ]
        }
      ]
    },
    {
      "cell_type": "code",
      "source": [
        "z11 = x1 * weights[0] + x2 * weights[1] + biases[0]\n",
        "print('The weighted sum of the inputs at the first node in the hidden layer is {}'.format(z11))\n",
        "z12 = x1 * weights[2] + x2 * weights[3] + biases[1]\n",
        "print('The weighted sum of the inputs at the second node in the hidden layer is {}'.format(np.around(z12, decimals=4)))"
      ],
      "metadata": {
        "colab": {
          "base_uri": "https://localhost:8080/"
        },
        "id": "EoobggnaWFzG",
        "outputId": "c2db6830-ef9a-4d42-836e-351b2eaf9007"
      },
      "execution_count": 5,
      "outputs": [
        {
          "output_type": "stream",
          "name": "stdout",
          "text": [
            "The weighted sum of the inputs at the first node in the hidden layer is 1.4665\n",
            "The weighted sum of the inputs at the second node in the hidden layer is 0.9415\n"
          ]
        }
      ]
    },
    {
      "cell_type": "code",
      "source": [
        "a11 = 1.0 / (1.0 + np.exp(-z11))\n",
        "print('The activation of the first node in the hidden layer is {}'.format(np.around(a11, decimals=4)))\n",
        "a12 = 1.0 / (1.0 + np.exp(-z12))\n",
        "print('The activation of the first node in the hidden layer is {}'.format(np.around(a12, decimals=4)))"
      ],
      "metadata": {
        "colab": {
          "base_uri": "https://localhost:8080/"
        },
        "id": "YQn6cQiNXFFv",
        "outputId": "49e323cf-3b6b-4767-ef12-eb721dbeb836"
      },
      "execution_count": 6,
      "outputs": [
        {
          "output_type": "stream",
          "name": "stdout",
          "text": [
            "The activation of the first node in the hidden layer is 0.8125\n",
            "The activation of the first node in the hidden layer is 0.7194\n"
          ]
        }
      ]
    },
    {
      "cell_type": "code",
      "source": [
        "z2 = a11 * weights[4] + a12 *weights[5] +biases[2]\n",
        "print('The weighted sum of the inputs at the node in the output layer is {}'.format(np.around(z2, decimals=4)))"
      ],
      "metadata": {
        "colab": {
          "base_uri": "https://localhost:8080/"
        },
        "id": "_85Yjzn5XkOi",
        "outputId": "57206954-8ca5-4959-9cc0-2dd6d9a013c6"
      },
      "execution_count": 7,
      "outputs": [
        {
          "output_type": "stream",
          "name": "stdout",
          "text": [
            "The weighted sum of the inputs at the node in the output layer is 1.2416\n"
          ]
        }
      ]
    },
    {
      "cell_type": "code",
      "source": [
        "a2 = 1.0/ (1.0 +np.exp(-z2))\n",
        "print('The output of the network for x1 = 0.5 and x2 = 0.85 is {}'.format(np.around(a2, decimals=4)))"
      ],
      "metadata": {
        "colab": {
          "base_uri": "https://localhost:8080/"
        },
        "id": "DA1AvrpyXrpd",
        "outputId": "2482e123-a6d6-4648-8273-f2f68d551e0c"
      },
      "execution_count": 8,
      "outputs": [
        {
          "output_type": "stream",
          "name": "stdout",
          "text": [
            "The output of the network for x1 = 0.5 and x2 = 0.85 is 0.7758\n"
          ]
        }
      ]
    },
    {
      "cell_type": "markdown",
      "source": [
        "# **General neural network**\n",
        "A generalize code to create a neural network"
      ],
      "metadata": {
        "id": "wj3eeJkAYhal"
      }
    },
    {
      "cell_type": "code",
      "source": [
        "def initialize_network(num_inputs, num_hidden_layers, num_nodes_hidden, num_nodes_output):\n",
        "    \n",
        "    num_nodes_previous = num_inputs # number of nodes in the previous layer\n",
        "\n",
        "    network = {}\n",
        "    \n",
        "    # loop through each layer and randomly initialize the weights and biases associated with each layer\n",
        "    for layer in range(num_hidden_layers + 1):\n",
        "        \n",
        "        if layer == num_hidden_layers:\n",
        "            layer_name = 'output' # name last layer in the network output\n",
        "            num_nodes = num_nodes_output\n",
        "        else:\n",
        "            layer_name = 'layer_{}'.format(layer + 1) # otherwise give the layer a number\n",
        "            num_nodes = num_nodes_hidden[layer] \n",
        "        \n",
        "        # initialize weights and bias for each node\n",
        "        network[layer_name] = {}\n",
        "        for node in range(num_nodes):\n",
        "            node_name = 'node_{}'.format(node+1)\n",
        "            network[layer_name][node_name] = {\n",
        "                'weights': np.around(np.random.uniform(size=num_nodes_previous), decimals=2),\n",
        "                'bias': np.around(np.random.uniform(size=1), decimals=2),\n",
        "            }\n",
        "    \n",
        "        num_nodes_previous = num_nodes\n",
        "\n",
        "    return network # return the network"
      ],
      "metadata": {
        "id": "ibmwu54BhLrx"
      },
      "execution_count": 9,
      "outputs": []
    },
    {
      "cell_type": "code",
      "source": [
        "def compute_weighted_sum(inputs, weights, bias):\n",
        "    return np.sum(inputs * weights) + bias"
      ],
      "metadata": {
        "id": "dTNL9_rjiubl"
      },
      "execution_count": 10,
      "outputs": []
    },
    {
      "cell_type": "code",
      "source": [
        "def node_activation(weighted_sum):\n",
        "    return 1.0 / (1.0 + np.exp(-1 * weighted_sum))"
      ],
      "metadata": {
        "id": "Q0J6PcpDlyEt"
      },
      "execution_count": 11,
      "outputs": []
    },
    {
      "cell_type": "code",
      "source": [
        "def forward_propagate(network, inputs):\n",
        "    \n",
        "    layer_inputs = list(inputs) # start with the input layer as the input to the first hidden layer\n",
        "    \n",
        "    for layer in network:\n",
        "        \n",
        "        layer_data = network[layer]\n",
        "        \n",
        "        layer_outputs = [] \n",
        "        for layer_node in layer_data:\n",
        "        \n",
        "            node_data = layer_data[layer_node]\n",
        "        \n",
        "            # compute the weighted sum and the output of each node at the same time \n",
        "            node_output = node_activation(compute_weighted_sum(layer_inputs, node_data['weights'], node_data['bias']))\n",
        "            layer_outputs.append(np.around(node_output[0], decimals=4))\n",
        "            \n",
        "        if layer != 'output':\n",
        "            print('The outputs of the nodes in hidden layer number {} is {}'.format(layer.split('_')[1], layer_outputs))\n",
        "    \n",
        "        layer_inputs = layer_outputs # set the output of this layer to be the input to next layer\n",
        "\n",
        "    network_predictions = layer_outputs\n",
        "    return network_predictions"
      ],
      "metadata": {
        "id": "hiA-DAiVnEo3"
      },
      "execution_count": 12,
      "outputs": []
    },
    {
      "cell_type": "markdown",
      "source": [
        "#### Use the *initialize_network* function to create a network that:\n",
        "\n",
        "1.  takes 5 inputs\n",
        "2.  has three hidden layers\n",
        "3.  has 3 nodes in the first layer, 2 nodes in the second layer, and 3 nodes in the third layer\n",
        "4.  has 1 node in the output layer\n",
        "\n",
        "Call the network **small_network**."
      ],
      "metadata": {
        "id": "F_8fz_AMhoXs"
      }
    },
    {
      "cell_type": "code",
      "source": [
        "# number of inputs\n",
        "n = 5\n",
        "# number of hidden layers\n",
        "num_hidden_layers = 3 \n",
        "# number of nodes in each hidden layer\n",
        "m = [3, 2, 3] \n",
        "# number of nodes in the output layer\n",
        "num_nodes_output = 1 "
      ],
      "metadata": {
        "id": "E4lwao60YlMz"
      },
      "execution_count": 13,
      "outputs": []
    },
    {
      "cell_type": "code",
      "source": [
        "small_network = initialize_network(n, num_hidden_layers, m, num_nodes_output)\n",
        "print(small_network)"
      ],
      "metadata": {
        "colab": {
          "base_uri": "https://localhost:8080/"
        },
        "id": "9ivahHCqhzNM",
        "outputId": "07b5f2d5-2be4-4e6a-d277-94e7f2c507af"
      },
      "execution_count": 14,
      "outputs": [
        {
          "output_type": "stream",
          "name": "stdout",
          "text": [
            "{'layer_1': {'node_1': {'weights': array([0.67, 0.61, 0.27, 0.8 , 0.73]), 'bias': array([0.01])}, 'node_2': {'weights': array([0.69, 0.02, 0.41, 0.77, 0.82]), 'bias': array([0.62])}, 'node_3': {'weights': array([0.68, 0.58, 0.9 , 0.38, 0.42]), 'bias': array([0.34])}}, 'layer_2': {'node_1': {'weights': array([0.6 , 0.2 , 0.49]), 'bias': array([0.18])}, 'node_2': {'weights': array([0.18, 0.35, 0.01]), 'bias': array([0.4])}}, 'layer_3': {'node_1': {'weights': array([0.78, 0.14]), 'bias': array([0.62])}, 'node_2': {'weights': array([0.21, 0.14]), 'bias': array([0.55])}, 'node_3': {'weights': array([0.32, 0.92]), 'bias': array([0.51])}}, 'output': {'node_1': {'weights': array([0.24, 0.14, 0.34]), 'bias': array([0.44])}}}\n"
          ]
        }
      ]
    },
    {
      "cell_type": "code",
      "source": [
        "from random import seed\n",
        "import numpy as np\n",
        "\n",
        "np.random.seed(12)\n",
        "inputs = np.around(np.random.uniform(size=5), decimals=2)\n",
        "\n",
        "print('The inputs to the network are {}'.format(inputs))"
      ],
      "metadata": {
        "colab": {
          "base_uri": "https://localhost:8080/"
        },
        "id": "mvLlQWmnih5Z",
        "outputId": "4df73447-72b5-41de-fba0-de5a4bc46461"
      },
      "execution_count": 15,
      "outputs": [
        {
          "output_type": "stream",
          "name": "stdout",
          "text": [
            "The inputs to the network are [0.15 0.74 0.26 0.53 0.01]\n"
          ]
        }
      ]
    },
    {
      "cell_type": "code",
      "source": [
        "predictions = forward_propagate(small_network, inputs)\n",
        "print('The predicted value by the network for the given input is {}'.format(np.around(predictions[0], decimals=4)))"
      ],
      "metadata": {
        "colab": {
          "base_uri": "https://localhost:8080/"
        },
        "id": "SZavYVgZis4M",
        "outputId": "8ae98cda-74f7-4bce-d1f5-737ea51feb32"
      },
      "execution_count": 16,
      "outputs": [
        {
          "output_type": "stream",
          "name": "stdout",
          "text": [
            "The outputs of the nodes in hidden layer number 1 is [0.7433, 0.7792, 0.7876]\n",
            "The outputs of the nodes in hidden layer number 2 is [0.7627, 0.693]\n",
            "The outputs of the nodes in hidden layer number 3 is [0.7878, 0.6915, 0.8009]\n",
            "The predicted value by the network for the given input is 0.7307\n"
          ]
        }
      ]
    }
  ]
}